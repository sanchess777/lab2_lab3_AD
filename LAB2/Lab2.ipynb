{
 "cells": [
  {
   "cell_type": "code",
   "execution_count": 1,
   "metadata": {},
   "outputs": [],
   "source": [
    "import pandas as pd\n",
    "import urllib.request\n",
    "from datetime import datetime, date\n",
    "import os\n",
    "import csv"
   ]
  },
  {
   "cell_type": "code",
   "execution_count": 2,
   "metadata": {},
   "outputs": [
    {
     "name": "stdout",
     "output_type": "stream",
     "text": [
      "File downloaded: NOAA_22_27062025030125.csv\n",
      "File downloaded: NOAA_24_27062025030128.csv\n",
      "File downloaded: NOAA_23_27062025030128.csv\n",
      "File downloaded: NOAA_25_27062025030129.csv\n",
      "File downloaded: NOAA_3_27062025030130.csv\n",
      "File downloaded: NOAA_4_27062025030131.csv\n",
      "File downloaded: NOAA_8_27062025030132.csv\n",
      "File downloaded: NOAA_19_27062025030133.csv\n",
      "File downloaded: NOAA_20_27062025030134.csv\n",
      "File downloaded: NOAA_21_27062025030135.csv\n",
      "File downloaded: NOAA_9_27062025030136.csv\n",
      "File downloaded: NOAA_10_27062025030137.csv\n",
      "File downloaded: NOAA_11_27062025030138.csv\n",
      "File downloaded: NOAA_12_27062025030138.csv\n",
      "File downloaded: NOAA_13_27062025030139.csv\n",
      "File downloaded: NOAA_14_27062025030140.csv\n",
      "File downloaded: NOAA_15_27062025030141.csv\n",
      "File downloaded: NOAA_16_27062025030142.csv\n",
      "File downloaded: NOAA_17_27062025030143.csv\n",
      "File downloaded: NOAA_18_27062025030144.csv\n",
      "File downloaded: NOAA_6_27062025030145.csv\n",
      "File downloaded: NOAA_1_27062025030146.csv\n",
      "File downloaded: NOAA_2_27062025030147.csv\n",
      "File downloaded: NOAA_7_27062025030148.csv\n",
      "File downloaded: NOAA_5_27062025030149.csv\n",
      "Success\n"
     ]
    }
   ],
   "source": [
    "url_base=('https://www.star.nesdis.noaa.gov/smcd/emb/vci/VH/get_TS_admin.php?country=UKR&provinceID={''}&year1=1918&year2=2024&type=Mean')\n",
    "indexes = {1: 22, 2: 24, 3: 23, 4: 25, 5: 3, 6: 4, 7: 8, 8: 19, 9: 20, 10: 21, 11: 9, 13: 10, 14: 11, 15: 12, 16: 13, 17: 14, 18: 15, 19: 16, 21: 17, 22: 18, 23: 6, 24: 1, 25: 2, 26: 7, 27: 5}\n",
    "\n",
    "dir=\"CSV_Files\"\n",
    "if not os.path.exists(dir):\n",
    "    os.makedirs(dir)\n",
    "\n",
    "def construct_url(province_id):\n",
    "    return url_base.format(province_id)\n",
    "\n",
    "def file_exists(directory, file_prefix):\n",
    "    for file_name in os.listdir(directory):\n",
    "        if file_name.startswith(file_prefix):\n",
    "            return True\n",
    "    return False\n",
    "\n",
    "def download_file(url, file_path):\n",
    "    with urllib.request.urlopen(url) as response:\n",
    "        text = response.read()\n",
    "        with open(file_path, 'wb') as file:\n",
    "            file.write(text)\n",
    "\n",
    "def update_file_if_needed(url, file_path):\n",
    "    with urllib.request.urlopen(url) as response:\n",
    "        new_text = response.read()\n",
    "        with open(file_path, 'rb') as file:\n",
    "            existing_text = file.read()\n",
    "        if existing_text != new_text:\n",
    "            with open(file_path, 'wb') as file:\n",
    "                file.write(new_text)\n",
    "            print('File updated:', file_path)\n",
    "        else:\n",
    "            print('File already exists and was not downloaded:', file_path)\n",
    "\n",
    "def main():\n",
    "    for province_id, index in indexes.items():\n",
    "        file_prefix = 'NOAA_' + str(index) + '_'\n",
    "        file_already_exists = file_exists(dir, file_prefix)\n",
    "\n",
    "        if not file_already_exists:\n",
    "            url = construct_url(province_id)\n",
    "            date_and_time_time = datetime.now().strftime(\"%d%m%Y%H%M%S\")\n",
    "            file_name = file_prefix + date_and_time_time + '.csv'\n",
    "            file_path = os.path.join(dir, file_name)\n",
    "            download_file(url, file_path)\n",
    "            print('File downloaded:', file_name)\n",
    "        else:\n",
    "            file_path = next((os.path.join(dir, file_name) for file_name in os.listdir(dir) if file_name.startswith(file_prefix)), None)\n",
    "            if file_path:\n",
    "                update_file_if_needed(construct_url(province_id), file_path)\n",
    "\n",
    "    print('Success')\n",
    "\n",
    "main()"
   ]
  },
  {
   "cell_type": "code",
   "execution_count": 3,
   "metadata": {},
   "outputs": [
    {
     "name": "stderr",
     "output_type": "stream",
     "text": [
      "C:\\Users\\Doctor\\AppData\\Local\\Temp\\ipykernel_12136\\820958345.py:21: FutureWarning: The behavior of DataFrame concatenation with empty or all-NA entries is deprecated. In a future version, this will no longer exclude empty or all-NA columns when determining the result dtypes. To retain the old behavior, exclude the relevant entries before the concat operation.\n",
      "  combined_data = pd.concat([combined_data, df], ignore_index=True)\n"
     ]
    },
    {
     "name": "stdout",
     "output_type": "stream",
     "text": [
      "       Year  Week    SMN     SMT    VCI    TCI    VHI Area\n",
      "0      1982   1.0  0.045  261.12  36.68  41.79  39.23   10\n",
      "1      1982   2.0  0.041  262.61  36.46  35.10  35.78   10\n",
      "2      1982   3.0  0.041  263.82  36.49  30.79  33.64   10\n",
      "3      1982   4.0  0.038  264.71  33.46  28.66  31.06   10\n",
      "4      1982   5.0  0.034  264.76  29.66  30.50  30.08   10\n",
      "...     ...   ...    ...     ...    ...    ...    ...  ...\n",
      "54645  2024  48.0  0.104  270.28  54.76  25.04  39.90    9\n",
      "54646  2024  49.0  0.091  268.05  49.12  29.95  39.53    9\n",
      "54647  2024  50.0  0.083  266.38  47.79  31.17  39.48    9\n",
      "54648  2024  51.0  0.077  265.11  47.37  29.80  38.58    9\n",
      "54649  2024  52.0  0.078  265.66  52.23  24.26  38.23    9\n",
      "\n",
      "[54650 rows x 8 columns]\n"
     ]
    }
   ],
   "source": [
    "data_dir = \"CSV_Files\"\n",
    "output_path = \"all_data.csv\"\n",
    "\n",
    "column_names = [\"Year\", \"Week\", \"SMN\", \"SMT\", \"VCI\", \"TCI\", \"VHI\", \"Area\"]\n",
    "combined_data = pd.DataFrame(columns = column_names)\n",
    "\n",
    "filenames = os.listdir(data_dir)\n",
    "\n",
    "for filename in filenames:\n",
    "    \n",
    "    file_path = os.path.join(data_dir, filename)\n",
    "\n",
    "    df = pd.read_csv(file_path, skiprows=2, names=column_names)\n",
    "    df[\"Year\"] = df[\"Year\"].str.replace('<tt><pre>', '').str.replace('</pre></tt>', '')\n",
    "\n",
    "    region_id = int(filename.split('_')[1])\n",
    "    df[\"Area\"] = region_id\n",
    "\n",
    "    df = df.drop(df.loc[df['VHI'] == -1].index).dropna()\n",
    "\n",
    "    combined_data = pd.concat([combined_data, df], ignore_index=True)\n",
    "\n",
    "combined_data.to_csv(output_path, index=False)\n",
    "\n",
    "print(combined_data)"
   ]
  },
  {
   "cell_type": "code",
   "execution_count": 4,
   "metadata": {},
   "outputs": [
    {
     "name": "stdout",
     "output_type": "stream",
     "text": [
      "VHI для області за вказаний рік: 40.76, 41.69, 44.26, 46.57, 48.72, 50.81, 52.18, 52.38, 51.65, 49.92, 50.19, 50.48, 48.99, 48.57, 49.11, 50.95, 54.17, 58.63, 59.82, 58.38, 57.11, 54.84, 51.11, 47.84, 45.03, 44.52, 48.06, 51.14, 54.21, 58.20, 59.95, 62.50, 63.32, 65.81, 66.08, 60.85, 55.20, 51.80, 51.08, 53.97, 55.56, 53.84, 51.40, 48.74, 46.50, 44.79, 44.15, 43.08, 41.47, 37.72, 36.88, 36.37\n"
     ]
    }
   ],
   "source": [
    "df=pd.read_csv('all_data.csv')\n",
    "def task_1(df, index, year):\n",
    "    vhi = df.loc[(df[\"Area\"] == index) & (df[\"Year\"] == year), 'VHI']\n",
    "    row = ', '.join([f\"{x:.2f}\" for x in vhi])\n",
    "    print(\"VHI для області за вказаний рік:\",row)\n",
    "\n",
    "task_1(df, 12, 1999)"
   ]
  },
  {
   "cell_type": "code",
   "execution_count": 7,
   "metadata": {},
   "outputs": [
    {
     "name": "stdout",
     "output_type": "stream",
     "text": [
      "Область  13 , рік 2000 \n",
      "Мінімум VHI: 16.14 \n",
      "Макс. VHI: 60.4 \n",
      "Середнє значення VHI: 40.816730769230766 \n",
      "Медіана: 39.065\n"
     ]
    }
   ],
   "source": [
    "def task_2(df, index, year):\n",
    "    vhi = df.loc[(df[\"Area\"] == index) & (df[\"Year\"] == year), 'VHI']\n",
    "    vhi_max = vhi.max()\n",
    "    vhi_min = vhi.min()\n",
    "    vhi_mean = vhi.mean()\n",
    "    vhi_median = vhi.median()\n",
    "    print(\"Область \", index, \", рік\",  year, \"\\nМінімум VHI:\",vhi_min,  \"\\nМакс. VHI:\", vhi_max, \"\\nСереднє значення VHI:\", vhi_mean, \"\\nМедіана:\", vhi_median)\n",
    "\n",
    "task_2(df, 13, 2000)"
   ]
  },
  {
   "cell_type": "code",
   "execution_count": 9,
   "metadata": {},
   "outputs": [
    {
     "name": "stdout",
     "output_type": "stream",
     "text": [
      "Область 1 , рік 2001 , VHI ряд: 36.50, 39.49, 43.40, 42.84, 41.60, 41.90, 41.91, 41.87, 43.17, 45.12, 46.20, 48.84, 48.75, 49.02, 51.67, 53.22, 55.06, 60.34, 65.01, 67.69, 69.84, 71.31, 72.03, 71.94, 70.20, 68.09, 66.56, 63.59, 60.43, 55.68, 50.90, 47.38, 43.52, 41.63, 42.63, 44.37, 45.74, 45.04, 46.07, 48.23, 51.53, 56.89, 62.87, 64.44, 63.71, 62.88, 62.88, 62.86, 62.81, 59.61, 57.62, 56.18 /n\n",
      "Область 2 , рік 2001 , VHI ряд: 36.65, 40.71, 45.49, 47.06, 47.32, 47.61, 46.66, 46.71, 49.18, 52.65, 56.21, 59.14, 58.50, 56.84, 53.64, 49.46, 50.88, 53.94, 55.64, 56.87, 59.09, 60.65, 59.99, 58.67, 58.29, 56.65, 56.02, 56.83, 58.99, 61.67, 61.15, 61.65, 63.22, 65.03, 67.54, 68.75, 67.14, 66.61, 67.91, 67.24, 69.04, 68.91, 67.90, 68.81, 66.90, 62.98, 61.78, 60.35, 59.81, 57.17, 56.96, 59.60 /n\n",
      "Область 3 , рік 2001 , VHI ряд: 30.84, 35.56, 41.34, 43.86, 44.91, 46.44, 47.82, 48.32, 47.69, 47.93, 49.25, 49.72, 50.91, 52.20, 52.31, 53.15, 56.79, 63.24, 70.28, 74.72, 78.71, 80.44, 77.80, 74.28, 71.19, 66.14, 59.67, 53.16, 49.00, 45.10, 41.23, 40.05, 40.24, 40.38, 43.62, 46.13, 47.54, 48.66, 48.36, 52.99, 55.64, 53.02, 53.07, 50.91, 50.94, 53.04, 54.58, 56.35, 57.44, 57.18, 58.06, 58.38 /n\n",
      "\n",
      "\n",
      "Область 1 , рік 2002 , VHI ряд: 54.67, 52.78, 50.66, 48.62, 47.26, 46.52, 45.71, 45.53, 47.55, 46.63, 44.51, 45.85, 45.54, 44.80, 45.33, 46.31, 48.61, 53.83, 57.15, 59.51, 61.37, 61.28, 61.79, 61.53, 59.18, 56.31, 54.79, 52.59, 51.25, 52.65, 53.96, 55.87, 56.42, 56.07, 55.57, 53.90, 56.64, 61.02, 62.03, 59.25, 58.31, 58.51, 56.03, 50.63, 45.44, 45.84, 48.91, 52.08, 54.22, 54.79, 53.40, 47.73 /n\n",
      "Область 2 , рік 2002 , VHI ряд: 60.29, 61.19, 60.86, 59.20, 58.60, 57.37, 55.80, 55.25, 55.04, 54.97, 55.53, 58.65, 61.20, 62.58, 63.27, 62.33, 60.56, 61.36, 62.42, 63.98, 64.24, 62.98, 60.72, 56.75, 53.07, 48.98, 44.96, 42.04, 38.76, 38.58, 36.57, 33.22, 30.06, 27.15, 26.50, 27.69, 33.91, 43.60, 49.55, 50.43, 51.10, 51.01, 49.45, 46.20, 43.47, 43.87, 47.14, 49.95, 52.17, 53.30, 55.55, 57.59 /n\n",
      "Область 3 , рік 2002 , VHI ряд: 59.17, 54.76, 49.16, 45.20, 40.86, 38.74, 38.45, 38.61, 38.86, 38.75, 38.82, 39.90, 41.37, 42.12, 42.20, 42.25, 43.19, 46.99, 50.81, 53.19, 56.40, 57.80, 56.14, 51.46, 45.24, 39.99, 35.08, 32.24, 32.52, 38.14, 42.55, 44.03, 46.56, 48.13, 50.96, 53.56, 60.13, 69.42, 73.56, 72.49, 70.83, 67.27, 64.28, 59.23, 57.22, 58.53, 60.86, 63.10, 63.30, 64.08, 66.34, 64.59 /n\n",
      "\n",
      "\n",
      "Область 1 , рік 2003 , VHI ряд: 42.67, 40.90, 41.42, 40.93, 40.07, 40.33, 40.79, 41.91, 44.93, 46.13, 47.36, 46.37, 46.92, 47.51, 43.52, 38.09, 33.73, 30.43, 30.46, 31.27, 31.98, 33.78, 36.83, 41.02, 45.95, 52.35, 58.82, 64.54, 67.97, 69.49, 69.25, 67.82, 67.68, 64.89, 60.20, 57.87, 56.11, 55.86, 58.26, 57.30, 57.81, 55.06, 47.84, 39.10, 37.22, 40.59, 45.33, 50.23, 55.32, 61.29, 65.98 /n\n",
      "Область 2 , рік 2003 , VHI ряд: 58.21, 60.06, 59.93, 57.53, 54.59, 52.19, 50.03, 49.43, 50.91, 53.40, 56.79, 58.94, 58.04, 53.89, 48.78, 46.65, 47.39, 47.54, 48.29, 49.90, 50.15, 50.08, 48.70, 48.14, 48.38, 47.90, 47.34, 48.10, 49.48, 47.87, 46.29, 45.53, 46.83, 46.53, 44.80, 43.62, 44.07, 46.28, 49.99, 55.00, 57.95, 57.12, 53.81, 48.67, 46.17, 46.81, 49.96, 53.79, 57.73, 61.62, 66.23 /n\n",
      "Область 3 , рік 2003 , VHI ряд: 59.39, 54.18, 51.39, 50.65, 46.85, 43.73, 41.68, 42.20, 42.02, 44.12, 45.81, 43.82, 39.03, 35.56, 33.18, 30.81, 27.73, 24.46, 23.25, 23.21, 23.12, 25.03, 32.01, 44.81, 58.64, 69.38, 77.98, 84.75, 88.52, 90.29, 90.15, 87.98, 86.95, 84.85, 80.17, 73.86, 67.75, 64.02, 63.22, 59.41, 55.76, 52.45, 47.91, 43.73, 41.85, 43.17, 46.43, 52.15, 57.91, 65.84, 72.37 /n\n",
      "\n",
      "\n"
     ]
    }
   ],
   "source": [
    "def task_3(df, year_start, year_end, indexes):\n",
    "    for year in range(year_start, year_end):\n",
    "        for index in indexes:\n",
    "            vhi = df.loc[(df['Area'] == index) & (df[\"Year\"] == year), 'VHI']\n",
    "            row=', '.join([f\"{x:.2f}\" for x in vhi])\n",
    "            print(\"Область\",index,\", рік\",year,\", VHI ряд:\",row,\"/n\")\n",
    "        print(\"\\n\")\n",
    "                  \n",
    "task_3 (df, 2001, 2004, [1, 2, 3])"
   ]
  },
  {
   "cell_type": "markdown",
   "metadata": {},
   "source": [
    "Аналогічно для помірних посух"
   ]
  },
  {
   "cell_type": "code",
   "execution_count": 11,
   "metadata": {},
   "outputs": [
    {
     "name": "stdout",
     "output_type": "stream",
     "text": [
      "Роки, протягом яких екстремальна посуха торкнулися більше вказаного відсотка областей:\n",
      "2007\n"
     ]
    }
   ],
   "source": [
    "def task_4(df, percent):\n",
    "    yearly_affected_areas = df[df[\"VHI\"] < 15].groupby(\"Year\")[\"Area\"].nunique()\n",
    "    yearly_percentage_affected = yearly_affected_areas / df[\"Area\"].unique().size\n",
    "    years_with_extreme_drought = yearly_percentage_affected[yearly_percentage_affected >= percent].index.to_list()\n",
    "\n",
    "    print(\"Роки, протягом яких екстремальна посуха торкнулися більше вказаного відсотка областей:\")\n",
    "    print(*years_with_extreme_drought, sep=\", \")\n",
    "\n",
    "task_4(df, 0.2)"
   ]
  },
  {
   "cell_type": "code",
   "execution_count": null,
   "metadata": {},
   "outputs": [],
   "source": []
  }
 ],
 "metadata": {
  "kernelspec": {
   "display_name": "Python 3 (ipykernel)",
   "language": "python",
   "name": "python3"
  },
  "language_info": {
   "codemirror_mode": {
    "name": "ipython",
    "version": 3
   },
   "file_extension": ".py",
   "mimetype": "text/x-python",
   "name": "python",
   "nbconvert_exporter": "python",
   "pygments_lexer": "ipython3",
   "version": "3.13.5"
  }
 },
 "nbformat": 4,
 "nbformat_minor": 4
}
